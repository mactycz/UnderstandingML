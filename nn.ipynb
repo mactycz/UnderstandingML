{
 "cells": [
  {
   "cell_type": "code",
   "execution_count": 113,
   "metadata": {},
   "outputs": [],
   "source": [
    "import numpy as np\n",
    "import os"
   ]
  },
  {
   "cell_type": "code",
   "execution_count": 114,
   "metadata": {},
   "outputs": [],
   "source": [
    "from PIL import Image\n",
    "path = 'images/train/'\n",
    "\n"
   ]
  },
  {
   "cell_type": "code",
   "execution_count": 115,
   "metadata": {},
   "outputs": [],
   "source": [
    "expressions = [name for name in os.listdir('images/train') if os.path.isdir('images/train')]\n"
   ]
  },
  {
   "cell_type": "code",
   "execution_count": 116,
   "metadata": {},
   "outputs": [],
   "source": [
    "train_set=[]\n",
    "labels=[]\n",
    "labels_plain=[]\n",
    "k=0\n",
    "for idx, expression in enumerate(expressions):\n",
    "    img_path='images/train/'+expression+'/'\n",
    "    for i in os.listdir(img_path):\n",
    "        train_set.append(np.asarray(Image.open(img_path+i)))\n",
    "        labels.append(np.zeros(len(expressions)))\n",
    "        labels_plain.append(idx)\n",
    "        labels[k][idx]=1\n",
    "        k=k+1\n",
    "train_set=np.array(train_set)       \n",
    "labels=np.array(labels)  \n",
    "labels_plain=np.array(labels_plain)  "
   ]
  },
  {
   "cell_type": "code",
   "execution_count": 117,
   "metadata": {},
   "outputs": [
    {
     "name": "stdout",
     "output_type": "stream",
     "text": [
      "7\n"
     ]
    }
   ],
   "source": [
    "print(labels.shape[1])"
   ]
  },
  {
   "cell_type": "code",
   "execution_count": null,
   "metadata": {},
   "outputs": [],
   "source": [
    "\n"
   ]
  },
  {
   "cell_type": "code",
   "execution_count": 118,
   "metadata": {},
   "outputs": [
    {
     "name": "stdout",
     "output_type": "stream",
     "text": [
      "(28821, 48, 48)\n"
     ]
    }
   ],
   "source": [
    "print(train_set.shape)\n"
   ]
  },
  {
   "cell_type": "code",
   "execution_count": 119,
   "metadata": {},
   "outputs": [],
   "source": [
    "train_set=train_set.reshape(train_set.shape[0],train_set.shape[2]*train_set.shape[1])\n",
    "train_set=train_set/255.\n"
   ]
  },
  {
   "cell_type": "code",
   "execution_count": 152,
   "metadata": {},
   "outputs": [],
   "source": [
    "def define_layers(set,labels):\n",
    "    layers=[set.shape[1],50,40,30,labels.shape[1]] \n",
    "    return layers"
   ]
  },
  {
   "cell_type": "code",
   "execution_count": 153,
   "metadata": {},
   "outputs": [],
   "source": [
    "layers = define_layers(train_set,labels)\n",
    "params={} # parameters"
   ]
  },
  {
   "cell_type": "code",
   "execution_count": 176,
   "metadata": {},
   "outputs": [],
   "source": [
    "def initialize(layers):\n",
    "    L=len(layers)-1\n",
    "    for l in range(1,L+1):\n",
    "        params['W'+str(l)]=np.random.randn(layers[l],layers[l-1])*np.sqrt(2/layers[l-1]) #using he initialization\n",
    "        params['b'+str(l)]=np.zeros((layers[l],1))*np.sqrt(2/layers[l-1])\n",
    "    return params"
   ]
  },
  {
   "cell_type": "code",
   "execution_count": null,
   "metadata": {},
   "outputs": [],
   "source": []
  },
  {
   "cell_type": "code",
   "execution_count": 177,
   "metadata": {},
   "outputs": [],
   "source": [
    "def relu(x):\n",
    "    return (np.maximum(0,x))\n",
    "    "
   ]
  },
  {
   "cell_type": "code",
   "execution_count": 178,
   "metadata": {},
   "outputs": [],
   "source": [
    "def softmax(x):\n",
    "    x = np.exp(x)/np.sum(np.exp(x),axis=0,keepdims=True)\n",
    "\n",
    "    return x"
   ]
  },
  {
   "cell_type": "code",
   "execution_count": 179,
   "metadata": {},
   "outputs": [],
   "source": [
    "def adam(parameters):\n",
    "    L = len(parameters) // 2 # number of layers in the neural networks\n",
    "    v = {}\n",
    "    s = {}\n",
    "    \n",
    "    for l in range(L):\n",
    "        v['dW' + str(l+1)] = np.zeros((parameters['W' + str(l+1)].shape[0], parameters['W' + str(l+1)].shape[1]))\n",
    "        v['db' + str(l+1)] = np.zeros((parameters['b' + str(l+1)].shape[0], parameters['b' + str(l+1)].shape[1]))\n",
    "        s['dW' + str(l+1)] = np.zeros((parameters['W' + str(l+1)].shape[0], parameters['W' + str(l+1)].shape[1]))\n",
    "        s['db' + str(l+1)] = np.zeros((parameters['b' + str(l+1)].shape[0], parameters['b' + str(l+1)].shape[1]))\n",
    "    return v,s\n",
    "    "
   ]
  },
  {
   "cell_type": "code",
   "execution_count": 180,
   "metadata": {},
   "outputs": [],
   "source": [
    "def forward_propagation(params,X):\n",
    "\n",
    "    z1 = np.dot(params['W1'],np.transpose(X))+params['b1']\n",
    "    a1 = relu(z1)\n",
    "    z2 = np.dot(params['W2'],a1)+params['b2']\n",
    "    a2 = relu(z2)\n",
    "    z3 = np.dot(params['W3'],a2)+params['b3']\n",
    "    a3 = relu(z3)\n",
    "    z4 = np.dot(params['W4'],a3)+params['b4']\n",
    "    a4 = softmax(z4)\n",
    "    \n",
    "    cache = (z1, a1,z2, a2, z3, a3, z4, a4)\n",
    "    return cache ,a4"
   ]
  },
  {
   "cell_type": "code",
   "execution_count": 181,
   "metadata": {},
   "outputs": [],
   "source": [
    "def compute_cost(Y,a,lambd, params):\n",
    "    m=Y.shape[1]\n",
    "    L2_regularization_cost = lambd/(2*m)*(np.sum(np.square(params['W1']))+np.sum(np.square(params['W2']))+np.sum(np.square(params['W3']))+np.sum(np.square(params['W4'])))\n",
    "    a = np.clip(a, 1e-15, 1 - 1e-15) #to avoid log(0) returning infinite cost\n",
    "    softmax_cost = -np.sum(Y*np.log(np.transpose(a)))/m \n",
    "\n",
    "    cost = softmax_cost + L2_regularization_cost\n",
    "    return cost"
   ]
  },
  {
   "cell_type": "code",
   "execution_count": 182,
   "metadata": {},
   "outputs": [],
   "source": [
    "def relu_derivative(x):\n",
    "    for i in np.nditer(x):\n",
    "        if i>0: i=1 \n",
    "        else: i = 0\n",
    "    return i"
   ]
  },
  {
   "cell_type": "code",
   "execution_count": 183,
   "metadata": {},
   "outputs": [],
   "source": [
    "def back_propagation(X,Y,cache,params,lambd):\n",
    "    m=X.shape[1]\n",
    "    (z1, a1, z2, a2, z3, a3, z4, a4)=cache\n",
    "    dz4 = a4-np.transpose(Y)\n",
    "    dW4=np.dot(dz4,np.transpose(a3))/m + (lambd/m)*params['W4']\n",
    "    db4 = np.sum(dz4,axis=1,keepdims=True)/m\n",
    "    \n",
    "    dz3= np.dot(np.transpose(params['W4']),dz4)*relu_derivative(dz4)\n",
    "    dW3=np.dot(dz3,np.transpose(a2))/m + (lambd/m)*params['W3']\n",
    "    db3 = np.sum(dz3,axis=1,keepdims=True)/m\n",
    "    \n",
    "    dz2= np.dot(np.transpose(params['W3']),dz3)*relu_derivative(dz3)\n",
    "    dW2=np.dot(dz2,np.transpose(a1))/m + + (lambd/m)*params['W2']\n",
    "    db2 = np.sum(dz2,axis=1,keepdims=True)/m\n",
    "    \n",
    "    dz1= np.dot(np.transpose(params['W2']),dz2)*relu_derivative(dz2)\n",
    "    dW1=np.dot(dz1,X)/m + + (lambd/m)*params['W1']\n",
    "    db1 = np.sum(dz1,axis=1,keepdims=True)/m\n",
    "    \n",
    "    grads = {\n",
    "        'dW4': dW4 , 'db4':db4,\n",
    "        'dW3': dW3 , 'db3':db3,\n",
    "        'dW2': dW2 , 'db2':db2,\n",
    "        'dW1': dW1 , 'db1':db1,\n",
    "    }\n",
    "    return grads"
   ]
  },
  {
   "cell_type": "code",
   "execution_count": 184,
   "metadata": {},
   "outputs": [],
   "source": [
    "def update_parameters(params,grads,lr,v,s,t,beta1 = 0.9, beta2 = 0.999,  epsilon = 1e-8):\n",
    "    L=len(params)//2\n",
    "    \n",
    "    v_corrected = {}\n",
    "    s_corrected = {}    \n",
    "    for l in range(L):\n",
    "        \n",
    "        v['dW' + str(l+1)] = beta1*v['dW' + str(l+1)] + (1 - beta1)*grads['dW' + str(l+1)]\n",
    "        v['db' + str(l+1)] = beta1*v['db' + str(l+1)] + (1 - beta1)*grads['db' + str(l+1)]\n",
    "\n",
    "        v_corrected['dW' + str(l+1)] = v['dW' + str(l+1)]/(1 - beta1**t)\n",
    "        v_corrected['db' + str(l+1)] = v['db' + str(l+1)]/(1 - beta1**t)\n",
    "\n",
    "        s['dW' + str(l+1)] = beta2*s['dW' + str(l+1)] + (1 - beta2)*np.square(grads['dW' + str(l+1)])\n",
    "        s['db' + str(l+1)] = beta2*s['db' + str(l+1)] + (1 - beta2)*np.square(grads['db' + str(l+1)])\n",
    "\n",
    "        s_corrected['dW' + str(l+1)] = s['dW' + str(l+1)]/(1 - beta2**t)\n",
    "        s_corrected['db' + str(l+1)] = s['db' + str(l+1)]/(1 - beta2**t)\n",
    "\n",
    "        params['W' + str(l+1)] = params['W' + str(l+1)] - lr*v_corrected['dW' + str(l+1)]/(np.sqrt(s_corrected['dW' + str(l+1)])+epsilon)\n",
    "        params['b' + str(l+1)] = params['b' + str(l+1)] - lr*v_corrected['db' + str(l+1)]/(np.sqrt(s_corrected['db' + str(l+1)])+epsilon)\n",
    "    \n",
    "    return params, v,s\n",
    "    \n",
    "    \n"
   ]
  },
  {
   "cell_type": "code",
   "execution_count": 192,
   "metadata": {},
   "outputs": [],
   "source": [
    "def model(X, Y, params,layers, lr, iterations = 500, lambd=0.6):\n",
    "    params=initialize(layers)\n",
    "    v,s = adam(params)\n",
    "   \n",
    "\n",
    "    for i in range(iterations):\n",
    "        cache, a4=forward_propagation(params,X)\n",
    "        cost = compute_cost(a4,Y,lambd,params)\n",
    "        grads = back_propagation(X,Y,cache,params,lambd)\n",
    "        params,v,s = update_parameters(params,grads,lr,v,s,t=2)\n",
    "        if i%10==0:\n",
    "            print('Cost after iteration %i: %f'%(i,cost))\n",
    "    return params\n",
    "    "
   ]
  },
  {
   "cell_type": "code",
   "execution_count": 186,
   "metadata": {},
   "outputs": [],
   "source": [
    "validation_set=[]\n",
    "labels_validation=[]\n",
    "k=0\n",
    "for idx, expression in enumerate(expressions):\n",
    "    img_path='images/validation/'+expression+'/'\n",
    "    for i in os.listdir(img_path):\n",
    "        validation_set.append(np.asarray(Image.open(img_path+i)))\n",
    "        labels_validation.append(np.zeros(len(expressions)))\n",
    "        labels_validation[k][idx]=1\n",
    "        k=k+1\n",
    "validation_set=np.array(validation_set)       \n",
    "labels_validation=np.array(labels_validation) "
   ]
  },
  {
   "cell_type": "code",
   "execution_count": 187,
   "metadata": {},
   "outputs": [],
   "source": [
    "validation_set=validation_set.reshape(validation_set.shape[0],validation_set.shape[2]*validation_set.shape[1])\n",
    "validation_set=validation_set/255."
   ]
  },
  {
   "cell_type": "code",
   "execution_count": 188,
   "metadata": {},
   "outputs": [
    {
     "name": "stdout",
     "output_type": "stream",
     "text": [
      "(7066, 2304)\n"
     ]
    }
   ],
   "source": [
    "print(validation_set.shape)"
   ]
  },
  {
   "cell_type": "code",
   "execution_count": 194,
   "metadata": {},
   "outputs": [
    {
     "name": "stdout",
     "output_type": "stream",
     "text": [
      "Cost after iteration 0: 29.670789\n",
      "Cost after iteration 10: 29.132905\n",
      "Cost after iteration 20: 28.931836\n",
      "Cost after iteration 30: 28.796598\n",
      "Cost after iteration 40: 28.732376\n",
      "Cost after iteration 50: 28.692312\n",
      "Cost after iteration 60: 28.665573\n",
      "Cost after iteration 70: 28.649507\n",
      "Cost after iteration 80: 28.636502\n",
      "Cost after iteration 90: 28.623877\n",
      "Cost after iteration 100: 28.614059\n",
      "Cost after iteration 110: 28.607525\n",
      "Cost after iteration 120: 28.602376\n",
      "Cost after iteration 130: 28.597554\n",
      "Cost after iteration 140: 28.593226\n",
      "Cost after iteration 150: 28.589592\n",
      "Cost after iteration 160: 28.586529\n",
      "Cost after iteration 170: 28.583855\n",
      "Cost after iteration 180: 28.581487\n",
      "Cost after iteration 190: 28.579394\n",
      "Cost after iteration 200: 28.577543\n",
      "Cost after iteration 210: 28.575898\n",
      "Cost after iteration 220: 28.574432\n",
      "Cost after iteration 230: 28.573123\n",
      "Cost after iteration 240: 28.571951\n",
      "Cost after iteration 250: 28.570898\n",
      "Cost after iteration 260: 28.569951\n",
      "Cost after iteration 270: 28.569098\n",
      "Cost after iteration 280: 28.568329\n",
      "Cost after iteration 290: 28.567635\n",
      "Cost after iteration 300: 28.567008\n",
      "Cost after iteration 310: 28.566441\n",
      "Cost after iteration 320: 28.565928\n",
      "Cost after iteration 330: 28.565463\n",
      "Cost after iteration 340: 28.565042\n",
      "Cost after iteration 350: 28.564660\n",
      "Cost after iteration 360: 28.564314\n",
      "Cost after iteration 370: 28.564000\n",
      "Cost after iteration 380: 28.563715\n",
      "Cost after iteration 390: 28.563456\n",
      "Cost after iteration 400: 28.563222\n",
      "Cost after iteration 410: 28.563009\n",
      "Cost after iteration 420: 28.562816\n",
      "Cost after iteration 430: 28.562641\n",
      "Cost after iteration 440: 28.562482\n",
      "Cost after iteration 450: 28.562338\n",
      "Cost after iteration 460: 28.562207\n",
      "Cost after iteration 470: 28.562089\n",
      "Cost after iteration 480: 28.561982\n",
      "Cost after iteration 490: 28.561884\n"
     ]
    }
   ],
   "source": [
    "params = model(train_set,labels,params,layers=layers,lr=0.02)"
   ]
  },
  {
   "cell_type": "code",
   "execution_count": 190,
   "metadata": {},
   "outputs": [],
   "source": [
    "def predict(params,X):\n",
    "    prediction=[]\n",
    "    cache, a4=forward_propagation(params,X)\n",
    "    prediction=np.argmax(a4,axis=0)\n",
    "    return prediction\n"
   ]
  },
  {
   "cell_type": "code",
   "execution_count": 195,
   "metadata": {},
   "outputs": [
    {
     "name": "stdout",
     "output_type": "stream",
     "text": [
      "0.2485687519517019\n"
     ]
    }
   ],
   "source": [
    "preditcions = predict(params,train_set)\n",
    "accuracy = np.sum(labels_plain==preditcions)/len(labels_plain)\n",
    "print(accuracy)\n",
    "#0.2274"
   ]
  }
 ],
 "metadata": {
  "kernelspec": {
   "display_name": "Python 3.10.8 64-bit (microsoft store)",
   "language": "python",
   "name": "python3"
  },
  "language_info": {
   "codemirror_mode": {
    "name": "ipython",
    "version": 3
   },
   "file_extension": ".py",
   "mimetype": "text/x-python",
   "name": "python",
   "nbconvert_exporter": "python",
   "pygments_lexer": "ipython3",
   "version": "3.10.11"
  },
  "orig_nbformat": 4,
  "vscode": {
   "interpreter": {
    "hash": "aa9f8ea43b632b651577ccc73c8022e576566061543ead5e3b2ba17949c79f28"
   }
  }
 },
 "nbformat": 4,
 "nbformat_minor": 2
}
