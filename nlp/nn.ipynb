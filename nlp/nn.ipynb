{
 "cells": [
  {
   "cell_type": "markdown",
   "id": "5ee745ff",
   "metadata": {},
   "source": [
    "# NLP neural nets - my sandbox\n",
    "Here is the notebook with basic neural network based on dataset and tikenizer prepared in the dataset.ipynb file. \\\n",
    "Essentially I want to create everything from scratch - basic neural net, embeddings, transformers, different transformers tricks like kv caching, sliding windows, mixture of experts, perhaps some version of rlhf(though it might be dificult without users, but perhaps I will figure something out). I want to create things from scratch using only basic libraries like numpy, but for more complex things I might use pytorch or transformers libraries."
   ]
  },
  {
   "cell_type": "code",
   "execution_count": 1,
   "id": "5f4da089",
   "metadata": {},
   "outputs": [],
   "source": [
    "import numpy as np"
   ]
  },
  {
   "cell_type": "code",
   "execution_count": null,
   "id": "ee8f99b1",
   "metadata": {},
   "outputs": [],
   "source": []
  }
 ],
 "metadata": {
  "kernelspec": {
   "display_name": "Python 3",
   "language": "python",
   "name": "python3"
  },
  "language_info": {
   "codemirror_mode": {
    "name": "ipython",
    "version": 3
   },
   "file_extension": ".py",
   "mimetype": "text/x-python",
   "name": "python",
   "nbconvert_exporter": "python",
   "pygments_lexer": "ipython3",
   "version": "3.11.2"
  }
 },
 "nbformat": 4,
 "nbformat_minor": 5
}
