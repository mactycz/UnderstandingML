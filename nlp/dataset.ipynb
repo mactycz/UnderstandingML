{
 "cells": [
  {
   "cell_type": "markdown",
   "metadata": {},
   "source": [
    "## Texts\n",
    "For this particular model, I will use some ancient greek philosophy, from Marcus Aurelius, Epictetus, Seneca and Cicero"
   ]
  },
  {
   "cell_type": "code",
   "execution_count": null,
   "metadata": {},
   "outputs": [],
   "source": [
    "import requests"
   ]
  },
  {
   "cell_type": "code",
   "execution_count": 9,
   "metadata": {},
   "outputs": [],
   "source": [
    "urls=[\n",
    "    'https://www.gutenberg.org/cache/epub/2680/pg2680.txt', #meditations\n",
    "    'https://www.gutenberg.org/cache/epub/10661/pg10661.txt', #epictetus\n",
    "    'https://www.gutenberg.org/cache/epub/56075/pg56075.txt', #seneca1\n",
    "    'https://www.gutenberg.org/cache/epub/3794/pg3794.txt', #seneca2\n",
    "    'https://www.gutenberg.org/cache/epub/14988/pg14988.txt', #cicero1\n",
    "    'https://www.gutenberg.org/cache/epub/58418/pg58418.txt', #cicero2\n",
    "    'https://www.gutenberg.org/cache/epub/50692/pg50692.txt'  #cicero3\n",
    "]"
   ]
  },
  {
   "cell_type": "code",
   "execution_count": 21,
   "metadata": {},
   "outputs": [],
   "source": [
    "full_text = ''"
   ]
  },
  {
   "cell_type": "code",
   "execution_count": 22,
   "metadata": {},
   "outputs": [],
   "source": [
    "import re\n",
    "pattern = r\"\\*\\*\\* START OF THE PROJECT GUTENBERG EBOOK.*?\\*\\*\\*\\s*(.*)\""
   ]
  },
  {
   "cell_type": "code",
   "execution_count": null,
   "metadata": {},
   "outputs": [],
   "source": [
    "for url in urls:\n",
    "    cur_text=requests.get(url).content.decode('utf-8')\n",
    "    cur_text=re.search(pattern, cur_text, re.DOTALL) # avoid the beginning of each gutenberg ebook\n",
    "    full_text+=cur_text.group(1)"
   ]
  },
  {
   "cell_type": "code",
   "execution_count": 24,
   "metadata": {},
   "outputs": [
    {
     "data": {
      "text/plain": [
       "4458638"
      ]
     },
     "execution_count": 24,
     "metadata": {},
     "output_type": "execute_result"
    }
   ],
   "source": [
    "len(full_text)"
   ]
  },
  {
   "cell_type": "markdown",
   "metadata": {},
   "source": [
    "After combining text for all of the texts, it is now time for tokenization.\n",
    "Tokenization is inspired by the video of the great Andrej Karpathy: https://www.youtube.com/watch?v=zduSFxRajkE&t=154s&ab_channel=AndrejKarpathy"
   ]
  }
 ],
 "metadata": {
  "kernelspec": {
   "display_name": "Python 3",
   "language": "python",
   "name": "python3"
  },
  "language_info": {
   "codemirror_mode": {
    "name": "ipython",
    "version": 3
   },
   "file_extension": ".py",
   "mimetype": "text/x-python",
   "name": "python",
   "nbconvert_exporter": "python",
   "pygments_lexer": "ipython3",
   "version": "3.11.10"
  }
 },
 "nbformat": 4,
 "nbformat_minor": 2
}
